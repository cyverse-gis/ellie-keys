{
 "cells": [
  {
   "cell_type": "code",
   "execution_count": 1,
   "id": "96a48064-293a-4922-8b3a-531b1ddd472d",
   "metadata": {},
   "outputs": [],
   "source": [
    "!pip install bokeh --quiet"
   ]
  },
  {
   "cell_type": "code",
   "execution_count": 2,
   "id": "c6681a9e-9f84-48ab-b0a8-134f60c8701e",
   "metadata": {},
   "outputs": [
    {
     "name": "stdout",
     "output_type": "stream",
     "text": [
      "Name: bokeh\n",
      "Version: 3.2.0\n",
      "Summary: Interactive plots and applications in the browser from Python\n",
      "Home-page: \n",
      "Author: Bokeh Team\n",
      "Author-email: info@bokeh.org\n",
      "License: Copyright (c) 2012 - 2023, Anaconda, Inc., and Bokeh Contributors\n",
      "        All rights reserved.\n",
      "        \n",
      "        Redistribution and use in source and binary forms, with or without modification,\n",
      "        are permitted provided that the following conditions are met:\n",
      "        \n",
      "        Redistributions of source code must retain the above copyright notice,\n",
      "        this list of conditions and the following disclaimer.\n",
      "        \n",
      "        Redistributions in binary form must reproduce the above copyright notice,\n",
      "        this list of conditions and the following disclaimer in the documentation\n",
      "        and/or other materials provided with the distribution.\n",
      "        \n",
      "        Neither the name of Anaconda nor the names of any contributors\n",
      "        may be used to endorse or promote products derived from this software\n",
      "        without specific prior written permission.\n",
      "        \n",
      "        THIS SOFTWARE IS PROVIDED BY THE COPYRIGHT HOLDERS AND CONTRIBUTORS \"AS IS\"\n",
      "        AND ANY EXPRESS OR IMPLIED WARRANTIES, INCLUDING, BUT NOT LIMITED TO, THE\n",
      "        IMPLIED WARRANTIES OF MERCHANTABILITY AND FITNESS FOR A PARTICULAR PURPOSE\n",
      "        ARE DISCLAIMED. IN NO EVENT SHALL THE COPYRIGHT OWNER OR CONTRIBUTORS BE\n",
      "        LIABLE FOR ANY DIRECT, INDIRECT, INCIDENTAL, SPECIAL, EXEMPLARY, OR\n",
      "        CONSEQUENTIAL DAMAGES (INCLUDING, BUT NOT LIMITED TO, PROCUREMENT OF\n",
      "        SUBSTITUTE GOODS OR SERVICES; LOSS OF USE, DATA, OR PROFITS; OR BUSINESS\n",
      "        INTERRUPTION) HOWEVER CAUSED AND ON ANY THEORY OF LIABILITY, WHETHER IN\n",
      "        CONTRACT, STRICT LIABILITY, OR TORT (INCLUDING NEGLIGENCE OR OTHERWISE)\n",
      "        ARISING IN ANY WAY OUT OF THE USE OF THIS SOFTWARE, EVEN IF ADVISED OF\n",
      "        THE POSSIBILITY OF SUCH DAMAGE.\n",
      "        \n",
      "Location: /opt/conda/envs/heatmap/lib/python3.9/site-packages\n",
      "Requires: contourpy, Jinja2, numpy, packaging, pandas, pillow, PyYAML, tornado, xyzservices\n",
      "Required-by: \n"
     ]
    }
   ],
   "source": [
    "!pip show bokeh"
   ]
  },
  {
   "cell_type": "code",
   "execution_count": 1,
   "id": "2bf2db8b-7fd9-4e26-83df-d41a1f94594d",
   "metadata": {},
   "outputs": [
    {
     "name": "stdout",
     "output_type": "stream",
     "text": [
      "\n",
      "CommandNotFoundError: Your shell has not been properly configured to use 'conda activate'.\n",
      "To initialize your shell, run\n",
      "\n",
      "    $ conda init <SHELL_NAME>\n",
      "\n",
      "Currently supported shells are:\n",
      "  - bash\n",
      "  - fish\n",
      "  - tcsh\n",
      "  - xonsh\n",
      "  - zsh\n",
      "  - powershell\n",
      "\n",
      "See 'conda init --help' for more information and options.\n",
      "\n",
      "IMPORTANT: You may need to close and restart your shell after running 'conda init'.\n",
      "\n",
      "\n",
      "\n",
      "Note: you may need to restart the kernel to use updated packages.\n"
     ]
    }
   ],
   "source": [
    "conda activate heatmap"
   ]
  },
  {
   "cell_type": "code",
   "execution_count": 13,
   "id": "4fcd0bd6-8cbb-4389-b8ad-b85f2d96c45a",
   "metadata": {},
   "outputs": [
    {
     "name": "stdout",
     "output_type": "stream",
     "text": [
      "/opt/conda/envs/heatmap/bin/python3.9\n"
     ]
    }
   ],
   "source": [
    "import sys\n",
    "print(sys.executable)"
   ]
  },
  {
   "cell_type": "markdown",
   "id": "4126665b-0239-4672-aaf2-662740044746",
   "metadata": {},
   "source": [
    "### This code should work, but there is not the correct import for the countries, so trying a new thing next code block"
   ]
  },
  {
   "cell_type": "code",
   "execution_count": 3,
   "id": "b770c364-6272-4a87-814c-42d7f6044ba1",
   "metadata": {},
   "outputs": [
    {
     "ename": "ImportError",
     "evalue": "cannot import name 'countries' from 'bokeh.sampledata' (/opt/conda/envs/heatmap/lib/python3.9/site-packages/bokeh/sampledata/__init__.py)",
     "output_type": "error",
     "traceback": [
      "\u001b[0;31m---------------------------------------------------------------------------\u001b[0m",
      "\u001b[0;31mImportError\u001b[0m                               Traceback (most recent call last)",
      "Cell \u001b[0;32mIn[3], line 5\u001b[0m\n\u001b[1;32m      3\u001b[0m \u001b[38;5;28;01mfrom\u001b[39;00m \u001b[38;5;21;01mbokeh\u001b[39;00m\u001b[38;5;21;01m.\u001b[39;00m\u001b[38;5;21;01mmodels\u001b[39;00m \u001b[38;5;28;01mimport\u001b[39;00m GeoJSONDataSource, LogColorMapper\n\u001b[1;32m      4\u001b[0m \u001b[38;5;28;01mfrom\u001b[39;00m \u001b[38;5;21;01mbokeh\u001b[39;00m\u001b[38;5;21;01m.\u001b[39;00m\u001b[38;5;21;01mpalettes\u001b[39;00m \u001b[38;5;28;01mimport\u001b[39;00m Viridis256\n\u001b[0;32m----> 5\u001b[0m \u001b[38;5;28;01mfrom\u001b[39;00m \u001b[38;5;21;01mbokeh\u001b[39;00m\u001b[38;5;21;01m.\u001b[39;00m\u001b[38;5;21;01msampledata\u001b[39;00m \u001b[38;5;28;01mimport\u001b[39;00m countries\n\u001b[1;32m      6\u001b[0m \u001b[38;5;28;01mimport\u001b[39;00m \u001b[38;5;21;01mpandas\u001b[39;00m \u001b[38;5;28;01mas\u001b[39;00m \u001b[38;5;21;01mpd\u001b[39;00m\n\u001b[1;32m      8\u001b[0m \u001b[38;5;66;03m# Load the dataset\u001b[39;00m\n",
      "\u001b[0;31mImportError\u001b[0m: cannot import name 'countries' from 'bokeh.sampledata' (/opt/conda/envs/heatmap/lib/python3.9/site-packages/bokeh/sampledata/__init__.py)"
     ]
    }
   ],
   "source": [
    "from datetime import datetime\n",
    "from bokeh.plotting import figure, show, output_file\n",
    "from bokeh.models import GeoJSONDataSource, LogColorMapper\n",
    "from bokeh.palettes import Viridis256\n",
    "from bokeh.sampledata import countries\n",
    "import pandas as pd\n",
    "\n",
    "# Load the dataset\n",
    "data = pd.read_csv('owid-covid-data.csv')\n",
    "\n",
    "# Convert the 'date' column to datetime format\n",
    "data['date'] = pd.to_datetime(data['date'])\n",
    "\n",
    "# Specify the desired day to isolate\n",
    "target_date = datetime(2023, 6, 28)\n",
    "\n",
    "# Filter the data for the desired day\n",
    "filtered_data = data[data['date'] == target_date]\n",
    "\n",
    "# Create a GeoJSONDataSource from the country boundaries\n",
    "geosource = GeoJSONDataSource(geojson=countries.data)\n",
    "\n",
    "# Create a color mapper for the choropleth\n",
    "color_mapper = LogColorMapper(palette=Viridis256)\n",
    "\n",
    "# Create a Bokeh figure\n",
    "p = figure(title='Choropleth Heatmap', plot_width=800, plot_height=500)\n",
    "\n",
    "# Add country boundaries and color them based on occurrence\n",
    "p.patches('xs', 'ys', source=geosource, fill_color={'field': 'new_cases_smoothed', 'transform': color_mapper},\n",
    "          line_color='gray', line_width=0.5, fill_alpha=1)\n",
    "\n",
    "# Add a color bar\n",
    "color_bar = figure(title='New Cases Smoothed', title_location='above', toolbar_location='below',\n",
    "                   plot_width=250, plot_height=20)\n",
    "color_bar.toolbar.logo = None\n",
    "color_bar.toolbar_location = None\n",
    "color_bar.min_border_top = 10\n",
    "color_bar.min_border_bottom = 0\n",
    "color_bar.min_border_left = 10\n",
    "color_bar.min_border_right = 10\n",
    "color_bar.rect(x=0, y=0, width=1, height=1, fill_color={'field': 'new_cases_smoothed', 'transform': color_mapper},\n",
    "               line_color=None)\n",
    "p.add_layout(color_bar, 'below')\n",
    "\n",
    "# Output the heatmap to an HTML file\n",
    "output_file('testheatmap.html')\n",
    "\n",
    "# Show the Bokeh figure\n",
    "show(p)\n"
   ]
  },
  {
   "cell_type": "code",
   "execution_count": null,
   "id": "f790e43f-b557-460a-8a82-beb340fe9cb9",
   "metadata": {},
   "outputs": [],
   "source": [
    "from datetime import datetime\n",
    "from bokeh.plotting import figure, show, output_file\n",
    "from bokeh.models import GeoJSONDataSource, LogColorMapper\n",
    "from bokeh.palettes import Viridis256\n",
    "import pandas as pd\n",
    "import json\n",
    "\n",
    "# Load the dataset\n",
    "data = pd.read_csv('owid-covid-data.csv')\n",
    "\n",
    "# Specify the desired date to create the heatmap\n",
    "desired_date = '2022-01-01'\n",
    "\n",
    "# Filter the dataset for the desired date\n",
    "filtered_data = data[data['date'] == desired_date]\n",
    "\n",
    "# Read the GeoJSON file for countries\n",
    "with open('countries.geojson') as f:\n",
    "    countries = json.load(f)\n",
    "\n",
    "# Merge the filtered data with the country data\n",
    "merged_data = countries.copy()\n",
    "for feature in merged_data['features']:\n",
    "    country_name = feature['properties']['name']\n",
    "    if country_name in filtered_data['location'].values:\n",
    "        occurrences = filtered_data[filtered_data['location'] == country_name]['new_cases_smoothed'].values[0]\n",
    "        feature['properties']['occurrences'] = occurrences\n",
    "    else:\n",
    "        feature['properties']['occurrences'] = 0\n",
    "\n",
    "# Create a GeoJSONDataSource\n",
    "geo_source = GeoJSONDataSource(geojson=json.dumps(merged_data))\n",
    "\n",
    "# Create the color mapper\n",
    "color_mapper = LogColorMapper(palette=Viridis256)\n",
    "\n",
    "# Create the figure\n",
    "p = figure(title='Heatmap', width=800, height=500, toolbar_location='above', tools='pan,wheel_zoom,reset')\n",
    "\n",
    "\n",
    "# Add the country polygons with color mapping\n",
    "p.patches('xs', 'ys', fill_alpha=0.7, line_color='black', line_width=0.5,\n",
    "          fill_color={'field': 'occurrences', 'transform': color_mapper},\n",
    "          source=geo_source)\n",
    "\n",
    "# Specify the output file\n",
    "output_file('heatmap.html')\n"
   ]
  },
  {
   "cell_type": "code",
   "execution_count": null,
   "id": "2c0adeae-5e6b-4a65-9065-6ddb5793dfd6",
   "metadata": {},
   "outputs": [],
   "source": []
  }
 ],
 "metadata": {
  "kernelspec": {
   "display_name": "heatmap",
   "language": "python",
   "name": "heatmap"
  },
  "language_info": {
   "codemirror_mode": {
    "name": "ipython",
    "version": 3
   },
   "file_extension": ".py",
   "mimetype": "text/x-python",
   "name": "python",
   "nbconvert_exporter": "python",
   "pygments_lexer": "ipython3",
   "version": "3.9.16"
  }
 },
 "nbformat": 4,
 "nbformat_minor": 5
}
