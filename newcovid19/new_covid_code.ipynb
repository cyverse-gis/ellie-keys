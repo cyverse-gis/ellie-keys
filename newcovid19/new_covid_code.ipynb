{
 "cells": [
  {
   "cell_type": "code",
   "execution_count": 17,
   "id": "96a48064-293a-4922-8b3a-531b1ddd472d",
   "metadata": {},
   "outputs": [],
   "source": [
    "!pip install bokeh --quiet"
   ]
  },
  {
   "cell_type": "code",
   "execution_count": 15,
   "id": "c6681a9e-9f84-48ab-b0a8-134f60c8701e",
   "metadata": {},
   "outputs": [
    {
     "name": "stdout",
     "output_type": "stream",
     "text": [
      "\u001b[33mWARNING: Package(s) not found: boke\u001b[0m\u001b[33m\n",
      "\u001b[0m"
     ]
    }
   ],
   "source": [
    "!pip show bokeh"
   ]
  },
  {
   "cell_type": "code",
   "execution_count": 1,
   "id": "2bf2db8b-7fd9-4e26-83df-d41a1f94594d",
   "metadata": {},
   "outputs": [
    {
     "name": "stdout",
     "output_type": "stream",
     "text": [
      "\n",
      "CommandNotFoundError: Your shell has not been properly configured to use 'conda activate'.\n",
      "To initialize your shell, run\n",
      "\n",
      "    $ conda init <SHELL_NAME>\n",
      "\n",
      "Currently supported shells are:\n",
      "  - bash\n",
      "  - fish\n",
      "  - tcsh\n",
      "  - xonsh\n",
      "  - zsh\n",
      "  - powershell\n",
      "\n",
      "See 'conda init --help' for more information and options.\n",
      "\n",
      "IMPORTANT: You may need to close and restart your shell after running 'conda init'.\n",
      "\n",
      "\n",
      "\n",
      "Note: you may need to restart the kernel to use updated packages.\n"
     ]
    }
   ],
   "source": [
    "conda activate heatmap"
   ]
  },
  {
   "cell_type": "code",
   "execution_count": 13,
   "id": "4fcd0bd6-8cbb-4389-b8ad-b85f2d96c45a",
   "metadata": {},
   "outputs": [
    {
     "name": "stdout",
     "output_type": "stream",
     "text": [
      "/opt/conda/envs/heatmap/bin/python3.9\n"
     ]
    }
   ],
   "source": [
    "import sys\n",
    "print(sys.executable)"
   ]
  },
  {
   "cell_type": "code",
   "execution_count": 11,
   "id": "b770c364-6272-4a87-814c-42d7f6044ba1",
   "metadata": {},
   "outputs": [
    {
     "ename": "ModuleNotFoundError",
     "evalue": "No module named 'bokeh'",
     "output_type": "error",
     "traceback": [
      "\u001b[0;31m---------------------------------------------------------------------------\u001b[0m",
      "\u001b[0;31mModuleNotFoundError\u001b[0m                       Traceback (most recent call last)",
      "Cell \u001b[0;32mIn[11], line 2\u001b[0m\n\u001b[1;32m      1\u001b[0m \u001b[38;5;28;01mfrom\u001b[39;00m \u001b[38;5;21;01mdatetime\u001b[39;00m \u001b[38;5;28;01mimport\u001b[39;00m datetime\n\u001b[0;32m----> 2\u001b[0m \u001b[38;5;28;01mfrom\u001b[39;00m \u001b[38;5;21;01mbokeh\u001b[39;00m\u001b[38;5;21;01m.\u001b[39;00m\u001b[38;5;21;01mplotting\u001b[39;00m \u001b[38;5;28;01mimport\u001b[39;00m figure, show, output_file\n\u001b[1;32m      3\u001b[0m \u001b[38;5;28;01mfrom\u001b[39;00m \u001b[38;5;21;01mbokeh\u001b[39;00m\u001b[38;5;21;01m.\u001b[39;00m\u001b[38;5;21;01mmodels\u001b[39;00m \u001b[38;5;28;01mimport\u001b[39;00m GeoJSONDataSource, LogColorMapper\n\u001b[1;32m      4\u001b[0m \u001b[38;5;28;01mfrom\u001b[39;00m \u001b[38;5;21;01mbokeh\u001b[39;00m\u001b[38;5;21;01m.\u001b[39;00m\u001b[38;5;21;01mpalettes\u001b[39;00m \u001b[38;5;28;01mimport\u001b[39;00m Viridis256\n",
      "\u001b[0;31mModuleNotFoundError\u001b[0m: No module named 'bokeh'"
     ]
    }
   ],
   "source": [
    "from datetime import datetime\n",
    "from bokeh.plotting import figure, show, output_file\n",
    "from bokeh.models import GeoJSONDataSource, LogColorMapper\n",
    "from bokeh.palettes import Viridis256\n",
    "from bokeh.sampledata import countries\n",
    "import pandas as pd\n",
    "\n",
    "# Load the dataset\n",
    "data = pd.read_csv('owid-covid-data.csv')\n",
    "\n",
    "# Convert the 'date' column to datetime format\n",
    "data['date'] = pd.to_datetime(data['date'])\n",
    "\n",
    "# Specify the desired day to isolate\n",
    "target_date = datetime(2023, 6, 28)\n",
    "\n",
    "# Filter the data for the desired day\n",
    "filtered_data = data[data['date'] == target_date]\n",
    "\n",
    "# Create a GeoJSONDataSource from the country boundaries\n",
    "geosource = GeoJSONDataSource(geojson=countries.data)\n",
    "\n",
    "# Create a color mapper for the choropleth\n",
    "color_mapper = LogColorMapper(palette=Viridis256)\n",
    "\n",
    "# Create a Bokeh figure\n",
    "p = figure(title='Choropleth Heatmap', plot_width=800, plot_height=500)\n",
    "\n",
    "# Add country boundaries and color them based on occurrence\n",
    "p.patches('xs', 'ys', source=geosource, fill_color={'field': 'new_cases_smoothed', 'transform': color_mapper},\n",
    "          line_color='gray', line_width=0.5, fill_alpha=1)\n",
    "\n",
    "# Add a color bar\n",
    "color_bar = figure(title='New Cases Smoothed', title_location='above', toolbar_location='below',\n",
    "                   plot_width=250, plot_height=20)\n",
    "color_bar.toolbar.logo = None\n",
    "color_bar.toolbar_location = None\n",
    "color_bar.min_border_top = 10\n",
    "color_bar.min_border_bottom = 0\n",
    "color_bar.min_border_left = 10\n",
    "color_bar.min_border_right = 10\n",
    "color_bar.rect(x=0, y=0, width=1, height=1, fill_color={'field': 'new_cases_smoothed', 'transform': color_mapper},\n",
    "               line_color=None)\n",
    "p.add_layout(color_bar, 'below')\n",
    "\n",
    "# Output the heatmap to an HTML file\n",
    "output_file('testheatmap.html')\n",
    "\n",
    "# Show the Bokeh figure\n",
    "show(p)\n"
   ]
  },
  {
   "cell_type": "code",
   "execution_count": null,
   "id": "f790e43f-b557-460a-8a82-beb340fe9cb9",
   "metadata": {},
   "outputs": [],
   "source": []
  }
 ],
 "metadata": {
  "kernelspec": {
   "display_name": "heatmap",
   "language": "python",
   "name": "heatmap"
  },
  "language_info": {
   "codemirror_mode": {
    "name": "ipython",
    "version": 3
   },
   "file_extension": ".py",
   "mimetype": "text/x-python",
   "name": "python",
   "nbconvert_exporter": "python",
   "pygments_lexer": "ipython3",
   "version": "3.9.16"
  }
 },
 "nbformat": 4,
 "nbformat_minor": 5
}
