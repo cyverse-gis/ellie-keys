{
 "cells": [
  {
   "cell_type": "markdown",
   "id": "1da9eb08-540c-449d-b966-094d7a4a9ab1",
   "metadata": {},
   "source": [
    "# Heatmap \n",
    "\n",
    "this is a heatmap"
   ]
  },
  {
   "cell_type": "markdown",
   "id": "9a099c91-9898-4495-8897-e94ff51090ce",
   "metadata": {},
   "source": [
    "this imports the needed programs to run the code (pandas)(for some reason folium has to be installed on its own using pip)"
   ]
  },
  {
   "cell_type": "code",
   "execution_count": 1,
   "id": "b65529e8-cdc4-446c-a114-40c96f5a0f0a",
   "metadata": {},
   "outputs": [],
   "source": [
    "import folium\n",
    "import pandas as pd"
   ]
  },
  {
   "cell_type": "code",
   "execution_count": 4,
   "id": "63b5ff08-4e22-48d7-bde3-292303f5b26c",
   "metadata": {},
   "outputs": [
    {
     "name": "stdout",
     "output_type": "stream",
     "text": [
      "Requirement already satisfied: folium in /opt/conda/lib/python3.11/site-packages (0.14.0)\n",
      "Requirement already satisfied: branca>=0.6.0 in /opt/conda/lib/python3.11/site-packages (from folium) (0.6.0)\n",
      "Requirement already satisfied: jinja2>=2.9 in /opt/conda/lib/python3.11/site-packages (from folium) (3.1.2)\n",
      "Requirement already satisfied: numpy in /opt/conda/lib/python3.11/site-packages (from folium) (1.24.3)\n",
      "Requirement already satisfied: requests in /opt/conda/lib/python3.11/site-packages (from folium) (2.31.0)\n",
      "Requirement already satisfied: MarkupSafe>=2.0 in /opt/conda/lib/python3.11/site-packages (from jinja2>=2.9->folium) (2.1.3)\n",
      "Requirement already satisfied: charset-normalizer<4,>=2 in /opt/conda/lib/python3.11/site-packages (from requests->folium) (2.1.1)\n",
      "Requirement already satisfied: idna<4,>=2.5 in /opt/conda/lib/python3.11/site-packages (from requests->folium) (3.4)\n",
      "Requirement already satisfied: urllib3<3,>=1.21.1 in /opt/conda/lib/python3.11/site-packages (from requests->folium) (2.0.2)\n",
      "Requirement already satisfied: certifi>=2017.4.17 in /opt/conda/lib/python3.11/site-packages (from requests->folium) (2023.5.7)\n"
     ]
    }
   ],
   "source": [
    "!pip install folium"
   ]
  },
  {
   "cell_type": "markdown",
   "id": "c83221a5-ffff-4dce-8c40-a897ced0be3f",
   "metadata": {},
   "source": [
    "This is a random data creator. If you need to test that the code is working this will create a dataset, and once it is created if you run the code above (with the right names) it should give you a randomized hotspot around tucson az."
   ]
  },
  {
   "cell_type": "code",
   "execution_count": 2,
   "id": "fe8b58c0-d35e-4ddb-9c2d-ae732aad0821",
   "metadata": {},
   "outputs": [],
   "source": [
    "import pandas as pd\n",
    "df = pd.DataFrame(index=range(100))\n",
    "import numpy as np\n",
    "\n",
    "df['latitude'] = np.random.uniform(low=31, high=34, size=(100,))\n",
    "df['longitude'] = np.random.uniform(low=-112, high=-110, size=(100,))\n",
    "df['occurance'] = np.random.choice([1, 0], size=(100,))\n",
    "df.to_csv('data.csv', index=False)"
   ]
  },
  {
   "cell_type": "markdown",
   "id": "d1452e12-32c2-4fcf-b9de-7f44a67aa1cf",
   "metadata": {},
   "source": [
    "this code first makessure the correct things are imported\n",
    "then loads a file (this can be enterchanged but for this it is covid19 data)\n",
    "then it creates the map, it loads follium along with the latitude and longitude data\n",
    "then it adds a layer for a heatmap identifying the traits that are being shown (lat and lon should stay, but confirmed is just what it is for covid 19 data, it is just talking about how it is a confirmed case)\n",
    "then it saves it as an html file that can be viewed. if you are doing different datasets, change the name so you can keep them seperate"
   ]
  },
  {
   "cell_type": "code",
   "execution_count": 4,
   "id": "104604a1-3011-4d2e-9d98-3429426fc0c8",
   "metadata": {},
   "outputs": [],
   "source": [
    "import folium\n",
    "from folium.plugins import HeatMap\n",
    "\n",
    "# Load data from CSV file\n",
    "data = pd.read_csv('data.csv')\n",
    "\n",
    "# Create a base map\n",
    "map = folium.Map(location=[data['latitude'].mean(), data['longitude'].mean()], zoom_start=10)\n",
    "\n",
    "# Add heatmap layer to the map\n",
    "HeatMap(data=data[['latitude', 'longitude', 'occurance']].groupby(['latitude', 'longitude']).sum().reset_index().values.tolist(), radius=8, max_zoom=13).add_to(map)\n",
    "\n",
    "# Save the map to an HTML file\n",
    "map.save('heatmap.html')"
   ]
  },
  {
   "cell_type": "code",
   "execution_count": null,
   "id": "0baea385-7bc7-4380-91b7-7b7057935109",
   "metadata": {},
   "outputs": [],
   "source": []
  }
 ],
 "metadata": {
  "kernelspec": {
   "display_name": "Python 3 (ipykernel)",
   "language": "python",
   "name": "python3"
  },
  "language_info": {
   "codemirror_mode": {
    "name": "ipython",
    "version": 3
   },
   "file_extension": ".py",
   "mimetype": "text/x-python",
   "name": "python",
   "nbconvert_exporter": "python",
   "pygments_lexer": "ipython3",
   "version": "3.10.8"
  }
 },
 "nbformat": 4,
 "nbformat_minor": 5
}
